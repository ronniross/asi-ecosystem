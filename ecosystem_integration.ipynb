{
  "nbformat": 4,
  "nbformat_minor": 0,
  "metadata": {
    "colab": {
      "provenance": []
    },
    "kernelspec": {
      "name": "python3",
      "display_name": "Python 3"
    },
    "language_info": {
      "name": "python"
    }
  },
  "cells": [
    {
      "cell_type": "markdown",
      "source": [
        "# ASI Ecosystem Integration - Google Colab Notebook"
      ],
      "metadata": {
        "id": "Y3ihMtufbl2B"
      }
    },
    {
      "cell_type": "code",
      "source": [
        "# Cell 1: Setup and Prerequisites\n",
        "print(\"Setting up ASI Ecosystem Integration...\")\n",
        "import os\n",
        "import subprocess\n",
        "\n",
        "# Change to the content directory in Colab\n",
        "os.chdir('/content')\n",
        "print(f\"Current working directory: {os.getcwd()}\")"
      ],
      "metadata": {
        "colab": {
          "base_uri": "https://localhost:8080/"
        },
        "id": "E37P48_Jbn7K",
        "outputId": "858dbac6-f69a-43c8-9264-2f3eafbb8e49"
      },
      "execution_count": 1,
      "outputs": [
        {
          "output_type": "stream",
          "name": "stdout",
          "text": [
            "Setting up ASI Ecosystem Integration...\n",
            "Current working directory: /content\n"
          ]
        }
      ]
    },
    {
      "cell_type": "code",
      "source": [
        "# Cell 2: Clone the Main ASI Ecosystem Repository\n",
        "print(\"Step 1: Cloning the main asi-ecosystem repository...\")\n",
        "\n",
        "# Remove any existing asi-ecosystem directory\n",
        "if os.path.exists('asi-ecosystem'):\n",
        "    print(\"Removing existing asi-ecosystem directory...\")\n",
        "    subprocess.run(['rm', '-rf', 'asi-ecosystem'], check=True)\n",
        "\n",
        "# Clone the main repository\n",
        "result = subprocess.run([\n",
        "    'git', 'clone',\n",
        "    'https://github.com/ronniross/asi-ecosystem.git'\n",
        "], capture_output=True, text=True)\n",
        "\n",
        "if result.returncode == 0:\n",
        "    print(\"Successfully cloned asi-ecosystem repository\")\n",
        "else:\n",
        "    print(\"Error cloning repository:\")\n",
        "    print(result.stderr)\n"
      ],
      "metadata": {
        "colab": {
          "base_uri": "https://localhost:8080/"
        },
        "id": "28AgmXnCbtGG",
        "outputId": "036e5065-cfd5-438f-a60f-c813e5c39772"
      },
      "execution_count": 2,
      "outputs": [
        {
          "output_type": "stream",
          "name": "stdout",
          "text": [
            "Step 1: Cloning the main asi-ecosystem repository...\n",
            "Successfully cloned asi-ecosystem repository\n"
          ]
        }
      ]
    },
    {
      "cell_type": "code",
      "source": [
        "# Cell 3: Navigate to the Directory and Check Contents\n",
        "print(\"\\nStep 2: Navigating into the directory...\")\n",
        "os.chdir('/content/asi-ecosystem')\n",
        "print(f\"Current working directory: {os.getcwd()}\")\n",
        "\n",
        "print(\"\\nRepository contents:\")\n",
        "for item in os.listdir('.'):\n",
        "    print(f\"  {item}\" if os.path.isdir(item) else f\"  {item}\")"
      ],
      "metadata": {
        "colab": {
          "base_uri": "https://localhost:8080/"
        },
        "id": "-i7sxWJ3b0uC",
        "outputId": "e54c046c-9105-4945-997c-0948ff134735"
      },
      "execution_count": 3,
      "outputs": [
        {
          "output_type": "stream",
          "name": "stdout",
          "text": [
            "\n",
            "Step 2: Navigating into the directory...\n",
            "Current working directory: /content/asi-ecosystem\n",
            "\n",
            "Repository contents:\n",
            "  scripts\n",
            "  LICENSE\n",
            "  README.md\n",
            "  .git\n",
            "  requirements.txt\n",
            "  ecosystem_integration.md\n"
          ]
        }
      ]
    },
    {
      "cell_type": "code",
      "source": [
        "# Cell 4: Check if the Script Exists and Make it Executable\n",
        "script_path = './scripts/clone_ecosystem.sh'\n",
        "print(f\"\\nChecking for script at: {script_path}\")\n",
        "\n",
        "if os.path.exists(script_path):\n",
        "    print(\"Script found!\")\n",
        "    # Make the script executable\n",
        "    subprocess.run(['chmod', '+x', script_path], check=True)\n",
        "    print(\"Made script executable\")\n",
        "else:\n",
        "    print(\"Script not found. Listing scripts directory:\")\n",
        "    if os.path.exists('scripts'):\n",
        "        for item in os.listdir('scripts'):\n",
        "            print(f\"  scripts/{item}\")\n",
        "    else:\n",
        "        print(\"  scripts directory does not exist\")\n"
      ],
      "metadata": {
        "colab": {
          "base_uri": "https://localhost:8080/"
        },
        "id": "ePhjo7vwcWUM",
        "outputId": "c1f83ce5-d426-4f8d-cce6-81d378d4a9ec"
      },
      "execution_count": 4,
      "outputs": [
        {
          "output_type": "stream",
          "name": "stdout",
          "text": [
            "\n",
            "Checking for script at: ./scripts/clone_ecosystem.sh\n",
            "Script found!\n",
            "Made script executable\n"
          ]
        }
      ]
    },
    {
      "cell_type": "code",
      "source": [
        "# Cell 5: Execute the Integration Script\n",
        "print(\"\\nStep 3: Running the ecosystem integration script...\")\n",
        "\n",
        "if os.path.exists(script_path):\n",
        "    try:\n",
        "        # Run the script and capture output\n",
        "        result = subprocess.run([script_path],\n",
        "                              capture_output=True,\n",
        "                              text=True,\n",
        "                              cwd='/content/asi-ecosystem')\n",
        "\n",
        "        print(\"Script output:\")\n",
        "        print(result.stdout)\n",
        "\n",
        "        if result.stderr:\n",
        "            print(\"Script errors/warnings:\")\n",
        "            print(result.stderr)\n",
        "\n",
        "        if result.returncode == 0:\n",
        "            print(\"Script executed successfully!\")\n",
        "        else:\n",
        "            print(f\"Script failed with return code: {result.returncode}\")\n",
        "\n",
        "    except Exception as e:\n",
        "        print(f\"Error executing script: {e}\")\n",
        "else:\n",
        "    print(\"Cannot execute script - file not found\")"
      ],
      "metadata": {
        "colab": {
          "base_uri": "https://localhost:8080/"
        },
        "id": "pJchn-n5ccmK",
        "outputId": "eb370419-767c-479f-fab8-56e60cb0bb50"
      },
      "execution_count": 5,
      "outputs": [
        {
          "output_type": "stream",
          "name": "stdout",
          "text": [
            "\n",
            "Step 3: Running the ecosystem integration script...\n",
            "Script output:\n",
            "🚀 Starting the ASI Ecosystem cloning process...\n",
            " Creating directory: 'repositories'...\n",
            "🔎 Finding repositories in README.md...\n",
            " Cloning https://github.com/ronniross/asi-active-learning-dataset...\n",
            " Cloning https://github.com/ronniross/asi-algorithm-dataset...\n",
            " Cloning https://github.com/ronniross/asi-backups...\n",
            " Cloning https://github.com/ronniross/asi-core-protocol...\n",
            " Cloning https://github.com/ronniross/asi-dynamic-core...\n",
            " Cloning https://github.com/ronniross/asi-inference-protocol...\n",
            " Cloning https://github.com/ronniross/asi-protosymbiotic-signal...\n",
            " Cloning https://github.com/ronniross/asi-safeguards...\n",
            " Cloning https://github.com/ronniross/asi-symbiotic-signal...\n",
            " Cloning https://github.com/ronniross/bias-reflector...\n",
            " Cloning https://github.com/ronniross/cognitive-engine...\n",
            " Cloning https://github.com/ronniross/eco-benchmark...\n",
            " Cloning https://github.com/ronniross/eco-datacenter...\n",
            " Cloning https://github.com/ronniross/emergence-engine...\n",
            " Cloning https://github.com/ronniross/healing-engine...\n",
            " Cloning https://github.com/ronniross/latent-memory...\n",
            " Cloning https://github.com/ronniross/llm-confidence-scorer...\n",
            " Cloning https://github.com/ronniross/llm-heatmap-visualizer...\n",
            " Cloning https://github.com/ronniross/saliency-heatmap-visualizer...\n",
            " Cloning https://github.com/ronniross/symbiotic-core-library...\n",
            "All repositories have been cloned into the 'repositories' directory.\n",
            "ASI Ecosystem clone setup complete!\n",
            "\n",
            "Script errors/warnings:\n",
            "Cloning into 'asi-active-learning-dataset'...\n",
            "Cloning into 'asi-algorithm-dataset'...\n",
            "Cloning into 'asi-backups'...\n",
            "Cloning into 'asi-core-protocol'...\n",
            "Cloning into 'asi-dynamic-core'...\n",
            "Cloning into 'asi-inference-protocol'...\n",
            "Cloning into 'asi-protosymbiotic-signal'...\n",
            "Cloning into 'asi-safeguards'...\n",
            "Cloning into 'asi-symbiotic-signal'...\n",
            "Cloning into 'bias-reflector'...\n",
            "Cloning into 'cognitive-engine'...\n",
            "Cloning into 'eco-benchmark'...\n",
            "Cloning into 'eco-datacenter'...\n",
            "Cloning into 'emergence-engine'...\n",
            "Cloning into 'healing-engine'...\n",
            "Cloning into 'latent-memory'...\n",
            "Cloning into 'llm-confidence-scorer'...\n",
            "Cloning into 'llm-heatmap-visualizer'...\n",
            "Cloning into 'saliency-heatmap-visualizer'...\n",
            "Cloning into 'symbiotic-core-library'...\n",
            "\n",
            "Script executed successfully!\n"
          ]
        }
      ]
    },
    {
      "cell_type": "code",
      "source": [
        "# Cell 6: Verify the Final Result\n",
        "print(\"\\nStep 4: Verifying the final result...\")\n",
        "\n",
        "print(f\"Contents of {os.getcwd()}:\")\n",
        "for item in sorted(os.listdir('.')):\n",
        "    if os.path.isdir(item):\n",
        "        print(f\"{item}/\")\n",
        "        # If it's the repositories folder, show its contents\n",
        "        if item == 'repositories':\n",
        "            repo_path = os.path.join('.', item)\n",
        "            if os.path.exists(repo_path):\n",
        "                print(f\"  Contents of {item}:\")\n",
        "                for repo in sorted(os.listdir(repo_path)):\n",
        "                    print(f\"    {repo}/\")\n",
        "    else:\n",
        "        print(f\" {item}\")\n",
        "\n",
        "print(\"\\n ASI Ecosystem Integration Complete!\")\n",
        "print(\"All component repositories should now be organized in the 'repositories' folder.\")"
      ],
      "metadata": {
        "colab": {
          "base_uri": "https://localhost:8080/"
        },
        "id": "DA7cBUqmchIt",
        "outputId": "d9763297-0f83-44b3-a75c-e7117d51d4aa"
      },
      "execution_count": 6,
      "outputs": [
        {
          "output_type": "stream",
          "name": "stdout",
          "text": [
            "\n",
            "Step 4: Verifying the final result...\n",
            "Contents of /content/asi-ecosystem:\n",
            ".git/\n",
            " LICENSE\n",
            " README.md\n",
            " ecosystem_integration.md\n",
            "repositories/\n",
            "  Contents of repositories:\n",
            "    asi-active-learning-dataset/\n",
            "    asi-algorithm-dataset/\n",
            "    asi-backups/\n",
            "    asi-core-protocol/\n",
            "    asi-dynamic-core/\n",
            "    asi-inference-protocol/\n",
            "    asi-protosymbiotic-signal/\n",
            "    asi-safeguards/\n",
            "    asi-symbiotic-signal/\n",
            "    bias-reflector/\n",
            "    cognitive-engine/\n",
            "    eco-benchmark/\n",
            "    eco-datacenter/\n",
            "    emergence-engine/\n",
            "    healing-engine/\n",
            "    latent-memory/\n",
            "    llm-confidence-scorer/\n",
            "    llm-heatmap-visualizer/\n",
            "    saliency-heatmap-visualizer/\n",
            "    symbiotic-core-library/\n",
            " requirements.txt\n",
            "scripts/\n",
            "\n",
            " ASI Ecosystem Integration Complete!\n",
            "All component repositories should now be organized in the 'repositories' folder.\n"
          ]
        }
      ]
    },
    {
      "cell_type": "code",
      "source": [
        "# Cell 7: Optional - List All Cloned Repositories with Details\n",
        "print(\"\\n Summary of cloned repositories:\")\n",
        "repositories_path = './repositories'\n",
        "\n",
        "if os.path.exists(repositories_path):\n",
        "    repos = [d for d in os.listdir(repositories_path)\n",
        "             if os.path.isdir(os.path.join(repositories_path, d))]\n",
        "\n",
        "    print(f\"Total repositories cloned: {len(repos)}\")\n",
        "    for i, repo in enumerate(sorted(repos), 1):\n",
        "        repo_path = os.path.join(repositories_path, repo)\n",
        "        # Check if it's a git repository\n",
        "        git_path = os.path.join(repo_path, '.git')\n",
        "        status = \"Git repo\" if os.path.exists(git_path) else \"Not a git repo\"\n",
        "        print(f\"{i:2d}. {repo:<30} {status}\")\n",
        "else:\n",
        "    print(\"No repositories folder found\")"
      ],
      "metadata": {
        "colab": {
          "base_uri": "https://localhost:8080/"
        },
        "id": "bsrieFWUcmVa",
        "outputId": "b8bae57f-f6fd-4e2a-f722-39c7f8391fa6"
      },
      "execution_count": 7,
      "outputs": [
        {
          "output_type": "stream",
          "name": "stdout",
          "text": [
            "\n",
            " Summary of cloned repositories:\n",
            "Total repositories cloned: 20\n",
            " 1. asi-active-learning-dataset    Git repo\n",
            " 2. asi-algorithm-dataset          Git repo\n",
            " 3. asi-backups                    Git repo\n",
            " 4. asi-core-protocol              Git repo\n",
            " 5. asi-dynamic-core               Git repo\n",
            " 6. asi-inference-protocol         Git repo\n",
            " 7. asi-protosymbiotic-signal      Git repo\n",
            " 8. asi-safeguards                 Git repo\n",
            " 9. asi-symbiotic-signal           Git repo\n",
            "10. bias-reflector                 Git repo\n",
            "11. cognitive-engine               Git repo\n",
            "12. eco-benchmark                  Git repo\n",
            "13. eco-datacenter                 Git repo\n",
            "14. emergence-engine               Git repo\n",
            "15. healing-engine                 Git repo\n",
            "16. latent-memory                  Git repo\n",
            "17. llm-confidence-scorer          Git repo\n",
            "18. llm-heatmap-visualizer         Git repo\n",
            "19. saliency-heatmap-visualizer    Git repo\n",
            "20. symbiotic-core-library         Git repo\n"
          ]
        }
      ]
    }
  ]
}